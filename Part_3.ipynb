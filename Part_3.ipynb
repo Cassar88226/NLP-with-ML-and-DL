{
 "cells": [
  {
   "cell_type": "markdown",
   "id": "7154e167",
   "metadata": {},
   "source": [
    "# 1. Importing Libraries"
   ]
  },
  {
   "cell_type": "code",
   "execution_count": 38,
   "id": "a05a5b54",
   "metadata": {},
   "outputs": [],
   "source": [
    "import pandas as pd\n",
    "from sklearn.feature_extraction.text import CountVectorizer\n",
    "from sklearn.model_selection import train_test_split\n",
    "from sklearn.preprocessing import LabelEncoder\n",
    "import nltk\n",
    "from nltk.tokenize import word_tokenize\n",
    "from nltk.corpus import stopwords\n",
    "from nltk.stem import WordNetLemmatizer\n",
    "from keras.models import Sequential\n",
    "from keras.regularizers import l1\n",
    "from keras import layers\n",
    "import re\n",
    "import matplotlib.pyplot as plt"
   ]
  },
  {
   "cell_type": "code",
   "execution_count": 39,
   "id": "393cc768",
   "metadata": {},
   "outputs": [],
   "source": [
    "plt.style.use('ggplot')\n",
    "\n",
    "def plot_history(history):\n",
    "    acc = history.history['accuracy']\n",
    "    val_acc = history.history['val_accuracy']\n",
    "    loss = history.history['loss']\n",
    "    val_loss = history.history['val_loss']\n",
    "    x = range(1, len(acc) + 1)\n",
    "\n",
    "    plt.figure(figsize=(12, 5))\n",
    "    plt.subplot(1, 2, 1)\n",
    "    plt.plot(x, acc, 'b', label='Training acc')\n",
    "    plt.plot(x, val_acc, 'r', label='Validation acc')\n",
    "    plt.title('Training and validation accuracy')\n",
    "    plt.legend()\n",
    "    plt.subplot(1, 2, 2)\n",
    "    plt.plot(x, loss, 'b', label='Training loss')\n",
    "    plt.plot(x, val_loss, 'r', label='Validation loss')\n",
    "    plt.title('Training and validation loss')\n",
    "    plt.legend()"
   ]
  },
  {
   "cell_type": "markdown",
   "id": "dea30c9d",
   "metadata": {},
   "source": [
    "# 2. Read Dataset"
   ]
  },
  {
   "cell_type": "code",
   "execution_count": 2,
   "id": "3824ba8b",
   "metadata": {},
   "outputs": [],
   "source": [
    "dataset = pd.read_csv(\"IMDB Dataset.csv\")"
   ]
  },
  {
   "cell_type": "code",
   "execution_count": 3,
   "id": "5213cb4f",
   "metadata": {},
   "outputs": [
    {
     "data": {
      "text/html": [
       "<div>\n",
       "<style scoped>\n",
       "    .dataframe tbody tr th:only-of-type {\n",
       "        vertical-align: middle;\n",
       "    }\n",
       "\n",
       "    .dataframe tbody tr th {\n",
       "        vertical-align: top;\n",
       "    }\n",
       "\n",
       "    .dataframe thead th {\n",
       "        text-align: right;\n",
       "    }\n",
       "</style>\n",
       "<table border=\"1\" class=\"dataframe\">\n",
       "  <thead>\n",
       "    <tr style=\"text-align: right;\">\n",
       "      <th></th>\n",
       "      <th>review</th>\n",
       "      <th>sentiment</th>\n",
       "    </tr>\n",
       "  </thead>\n",
       "  <tbody>\n",
       "    <tr>\n",
       "      <th>0</th>\n",
       "      <td>One of the other reviewers has mentioned that ...</td>\n",
       "      <td>positive</td>\n",
       "    </tr>\n",
       "    <tr>\n",
       "      <th>1</th>\n",
       "      <td>A wonderful little production. &lt;br /&gt;&lt;br /&gt;The...</td>\n",
       "      <td>positive</td>\n",
       "    </tr>\n",
       "    <tr>\n",
       "      <th>2</th>\n",
       "      <td>I thought this was a wonderful way to spend ti...</td>\n",
       "      <td>positive</td>\n",
       "    </tr>\n",
       "    <tr>\n",
       "      <th>3</th>\n",
       "      <td>Basically there's a family where a little boy ...</td>\n",
       "      <td>negative</td>\n",
       "    </tr>\n",
       "    <tr>\n",
       "      <th>4</th>\n",
       "      <td>Petter Mattei's \"Love in the Time of Money\" is...</td>\n",
       "      <td>positive</td>\n",
       "    </tr>\n",
       "    <tr>\n",
       "      <th>5</th>\n",
       "      <td>Probably my all-time favorite movie, a story o...</td>\n",
       "      <td>positive</td>\n",
       "    </tr>\n",
       "    <tr>\n",
       "      <th>6</th>\n",
       "      <td>I sure would like to see a resurrection of a u...</td>\n",
       "      <td>positive</td>\n",
       "    </tr>\n",
       "    <tr>\n",
       "      <th>7</th>\n",
       "      <td>This show was an amazing, fresh &amp; innovative i...</td>\n",
       "      <td>negative</td>\n",
       "    </tr>\n",
       "    <tr>\n",
       "      <th>8</th>\n",
       "      <td>Encouraged by the positive comments about this...</td>\n",
       "      <td>negative</td>\n",
       "    </tr>\n",
       "    <tr>\n",
       "      <th>9</th>\n",
       "      <td>If you like original gut wrenching laughter yo...</td>\n",
       "      <td>positive</td>\n",
       "    </tr>\n",
       "  </tbody>\n",
       "</table>\n",
       "</div>"
      ],
      "text/plain": [
       "                                              review sentiment\n",
       "0  One of the other reviewers has mentioned that ...  positive\n",
       "1  A wonderful little production. <br /><br />The...  positive\n",
       "2  I thought this was a wonderful way to spend ti...  positive\n",
       "3  Basically there's a family where a little boy ...  negative\n",
       "4  Petter Mattei's \"Love in the Time of Money\" is...  positive\n",
       "5  Probably my all-time favorite movie, a story o...  positive\n",
       "6  I sure would like to see a resurrection of a u...  positive\n",
       "7  This show was an amazing, fresh & innovative i...  negative\n",
       "8  Encouraged by the positive comments about this...  negative\n",
       "9  If you like original gut wrenching laughter yo...  positive"
      ]
     },
     "execution_count": 3,
     "metadata": {},
     "output_type": "execute_result"
    }
   ],
   "source": [
    "dataset.head(10)"
   ]
  },
  {
   "cell_type": "markdown",
   "id": "7649f6a4",
   "metadata": {},
   "source": [
    "# 3. Proprocessing"
   ]
  },
  {
   "cell_type": "code",
   "execution_count": 4,
   "id": "45f322bd",
   "metadata": {},
   "outputs": [],
   "source": [
    "# clearning the non alphanumeric\n",
    "def clean_non_alphanumberic(text):\n",
    "    return re.sub('[^a-zA-Z]', ' ', text)"
   ]
  },
  {
   "cell_type": "code",
   "execution_count": 5,
   "id": "5bb35263",
   "metadata": {},
   "outputs": [],
   "source": [
    "# convert the text to lowercase\n",
    "def lower(text):\n",
    "    return text.lower()"
   ]
  },
  {
   "cell_type": "code",
   "execution_count": 6,
   "id": "19bd9500",
   "metadata": {},
   "outputs": [],
   "source": [
    "# tokenize\n",
    "def tokenization(text):\n",
    "    return word_tokenize(text)"
   ]
  },
  {
   "cell_type": "code",
   "execution_count": 7,
   "id": "c7407fd9",
   "metadata": {},
   "outputs": [],
   "source": [
    "# remove stopwords\n",
    "stop_words = set(stopwords.words('english'))\n",
    "def remove_stopwords(tokens):\n",
    "    return [item for item in tokens if item not in stop_words]"
   ]
  },
  {
   "cell_type": "code",
   "execution_count": 8,
   "id": "7bd16856",
   "metadata": {},
   "outputs": [],
   "source": [
    "# lemmatization\n",
    "lemmatizier = WordNetLemmatizer()\n",
    "def lemmatization(tokens):\n",
    "    return [lemmatizier.lemmatize(word=w) for w in tokens]"
   ]
  },
  {
   "cell_type": "code",
   "execution_count": 9,
   "id": "6c4c5f5e",
   "metadata": {},
   "outputs": [],
   "source": [
    "# remove the short length words\n",
    "def remove_shortwords(tokens):\n",
    "    return [word for word in tokens if len(word) > 2]"
   ]
  },
  {
   "cell_type": "code",
   "execution_count": 10,
   "id": "0ffd1d02",
   "metadata": {},
   "outputs": [],
   "source": [
    "# preprocessing function\n",
    "def preprocessing(text):\n",
    "    # remove non alphanumberic\n",
    "    new_text = clean_non_alphanumberic(text)\n",
    "    # to lower\n",
    "    new_text = lower(new_text)\n",
    "    # tokenizing\n",
    "    tokens = tokenization(new_text)\n",
    "    # remove stopwords\n",
    "    tokens = remove_stopwords(tokens)\n",
    "    # lemmatizing\n",
    "    tokens = lemmatization(tokens)\n",
    "    # remove short words\n",
    "    tokens = remove_shortwords(tokens)\n",
    "    # remove \n",
    "    new_text = ' '.join(tokens)\n",
    "    return new_text"
   ]
  },
  {
   "cell_type": "code",
   "execution_count": 11,
   "id": "b78e3f78",
   "metadata": {},
   "outputs": [],
   "source": [
    "# do preprocessing\n",
    "dataset['preprocessed'] = dataset['review'].apply(preprocessing)"
   ]
  },
  {
   "cell_type": "code",
   "execution_count": 12,
   "id": "509f4407",
   "metadata": {},
   "outputs": [],
   "source": [
    "# convert sentiment value(positive and negative) to numerical value\n",
    "# using labelencoder\n",
    "sentiment_en = LabelEncoder()\n",
    "dataset['sentiment'] = sentiment_en.fit_transform(dataset['sentiment'])"
   ]
  },
  {
   "cell_type": "code",
   "execution_count": 13,
   "id": "07ff53d9",
   "metadata": {},
   "outputs": [
    {
     "data": {
      "text/html": [
       "<div>\n",
       "<style scoped>\n",
       "    .dataframe tbody tr th:only-of-type {\n",
       "        vertical-align: middle;\n",
       "    }\n",
       "\n",
       "    .dataframe tbody tr th {\n",
       "        vertical-align: top;\n",
       "    }\n",
       "\n",
       "    .dataframe thead th {\n",
       "        text-align: right;\n",
       "    }\n",
       "</style>\n",
       "<table border=\"1\" class=\"dataframe\">\n",
       "  <thead>\n",
       "    <tr style=\"text-align: right;\">\n",
       "      <th></th>\n",
       "      <th>review</th>\n",
       "      <th>sentiment</th>\n",
       "      <th>preprocessed</th>\n",
       "    </tr>\n",
       "  </thead>\n",
       "  <tbody>\n",
       "    <tr>\n",
       "      <th>0</th>\n",
       "      <td>One of the other reviewers has mentioned that ...</td>\n",
       "      <td>1</td>\n",
       "      <td>one reviewer mentioned watching episode hooked...</td>\n",
       "    </tr>\n",
       "    <tr>\n",
       "      <th>1</th>\n",
       "      <td>A wonderful little production. &lt;br /&gt;&lt;br /&gt;The...</td>\n",
       "      <td>1</td>\n",
       "      <td>wonderful little production filming technique ...</td>\n",
       "    </tr>\n",
       "    <tr>\n",
       "      <th>2</th>\n",
       "      <td>I thought this was a wonderful way to spend ti...</td>\n",
       "      <td>1</td>\n",
       "      <td>thought wonderful way spend time hot summer we...</td>\n",
       "    </tr>\n",
       "    <tr>\n",
       "      <th>3</th>\n",
       "      <td>Basically there's a family where a little boy ...</td>\n",
       "      <td>0</td>\n",
       "      <td>basically family little boy jake think zombie ...</td>\n",
       "    </tr>\n",
       "    <tr>\n",
       "      <th>4</th>\n",
       "      <td>Petter Mattei's \"Love in the Time of Money\" is...</td>\n",
       "      <td>1</td>\n",
       "      <td>petter mattei love time money visually stunnin...</td>\n",
       "    </tr>\n",
       "    <tr>\n",
       "      <th>5</th>\n",
       "      <td>Probably my all-time favorite movie, a story o...</td>\n",
       "      <td>1</td>\n",
       "      <td>probably time favorite movie story selflessnes...</td>\n",
       "    </tr>\n",
       "    <tr>\n",
       "      <th>6</th>\n",
       "      <td>I sure would like to see a resurrection of a u...</td>\n",
       "      <td>1</td>\n",
       "      <td>sure would like see resurrection dated seahunt...</td>\n",
       "    </tr>\n",
       "    <tr>\n",
       "      <th>7</th>\n",
       "      <td>This show was an amazing, fresh &amp; innovative i...</td>\n",
       "      <td>0</td>\n",
       "      <td>show amazing fresh innovative idea first aired...</td>\n",
       "    </tr>\n",
       "    <tr>\n",
       "      <th>8</th>\n",
       "      <td>Encouraged by the positive comments about this...</td>\n",
       "      <td>0</td>\n",
       "      <td>encouraged positive comment film looking forwa...</td>\n",
       "    </tr>\n",
       "    <tr>\n",
       "      <th>9</th>\n",
       "      <td>If you like original gut wrenching laughter yo...</td>\n",
       "      <td>1</td>\n",
       "      <td>like original gut wrenching laughter like movi...</td>\n",
       "    </tr>\n",
       "  </tbody>\n",
       "</table>\n",
       "</div>"
      ],
      "text/plain": [
       "                                              review  sentiment  \\\n",
       "0  One of the other reviewers has mentioned that ...          1   \n",
       "1  A wonderful little production. <br /><br />The...          1   \n",
       "2  I thought this was a wonderful way to spend ti...          1   \n",
       "3  Basically there's a family where a little boy ...          0   \n",
       "4  Petter Mattei's \"Love in the Time of Money\" is...          1   \n",
       "5  Probably my all-time favorite movie, a story o...          1   \n",
       "6  I sure would like to see a resurrection of a u...          1   \n",
       "7  This show was an amazing, fresh & innovative i...          0   \n",
       "8  Encouraged by the positive comments about this...          0   \n",
       "9  If you like original gut wrenching laughter yo...          1   \n",
       "\n",
       "                                        preprocessed  \n",
       "0  one reviewer mentioned watching episode hooked...  \n",
       "1  wonderful little production filming technique ...  \n",
       "2  thought wonderful way spend time hot summer we...  \n",
       "3  basically family little boy jake think zombie ...  \n",
       "4  petter mattei love time money visually stunnin...  \n",
       "5  probably time favorite movie story selflessnes...  \n",
       "6  sure would like see resurrection dated seahunt...  \n",
       "7  show amazing fresh innovative idea first aired...  \n",
       "8  encouraged positive comment film looking forwa...  \n",
       "9  like original gut wrenching laughter like movi...  "
      ]
     },
     "execution_count": 13,
     "metadata": {},
     "output_type": "execute_result"
    }
   ],
   "source": [
    "dataset.head(10)"
   ]
  },
  {
   "cell_type": "markdown",
   "id": "790f8067",
   "metadata": {},
   "source": [
    "# 4. Feature Engineering"
   ]
  },
  {
   "cell_type": "markdown",
   "id": "496a47e4",
   "metadata": {},
   "source": [
    "#### 4.1 Convert the text to numerical data"
   ]
  },
  {
   "cell_type": "code",
   "execution_count": 13,
   "id": "2e3fcf74",
   "metadata": {},
   "outputs": [],
   "source": [
    "vectorizer = CountVectorizer(min_df=30)\n",
    "vectorized = vectorizer.fit_transform(dataset['preprocessed'])\n",
    "# get vocabulary\n",
    "vocabulary = vectorizer.vocabulary_"
   ]
  },
  {
   "cell_type": "code",
   "execution_count": 25,
   "id": "e747c0c2",
   "metadata": {},
   "outputs": [
    {
     "name": "stdout",
     "output_type": "stream",
     "text": [
      "Vocabulary size is 12318\n"
     ]
    }
   ],
   "source": [
    "voc_size = len(vocabulary)\n",
    "print(\"Vocabulary size is\", voc_size)"
   ]
  },
  {
   "cell_type": "code",
   "execution_count": 15,
   "id": "0c7223f3",
   "metadata": {},
   "outputs": [],
   "source": [
    "# build the Input and Target Set\n",
    "X = vectorized.toarray()\n",
    "y = dataset.sentiment"
   ]
  },
  {
   "cell_type": "code",
   "execution_count": 26,
   "id": "20e5c0a9",
   "metadata": {},
   "outputs": [
    {
     "name": "stdout",
     "output_type": "stream",
     "text": [
      "Dataset size is  50000\n"
     ]
    }
   ],
   "source": [
    "print(\"Dataset size is \", len(X))"
   ]
  },
  {
   "cell_type": "markdown",
   "id": "e4dfab01",
   "metadata": {},
   "source": [
    "#### 4.2 split the dataset into Train and Test set"
   ]
  },
  {
   "cell_type": "code",
   "execution_count": 16,
   "id": "dd6c9d9f",
   "metadata": {},
   "outputs": [],
   "source": [
    "# Splitting the dataset into the Training set and Test set\n",
    "X_train, X_test, y_train, y_test = train_test_split(X, y, test_size=0.2, random_state=0)"
   ]
  },
  {
   "cell_type": "code",
   "execution_count": 28,
   "id": "e5dcf540",
   "metadata": {},
   "outputs": [
    {
     "name": "stdout",
     "output_type": "stream",
     "text": [
      "Train Set size is  40000\n",
      "Test Set size is  10000\n"
     ]
    }
   ],
   "source": [
    "print(\"Train Set size is \", len(X_train))\n",
    "print(\"Test Set size is \", len(X_test))"
   ]
  },
  {
   "cell_type": "markdown",
   "id": "2918a656",
   "metadata": {},
   "source": [
    "# 5. 1-Layer MLP"
   ]
  },
  {
   "cell_type": "markdown",
   "id": "d4cff493",
   "metadata": {},
   "source": [
    "#### 5.1 Build the 1-Layer MLP model"
   ]
  },
  {
   "cell_type": "code",
   "execution_count": 53,
   "id": "3c996a61",
   "metadata": {},
   "outputs": [],
   "source": [
    "# input dim is 12319 * 1\n",
    "# output dim is 1\n",
    "model = Sequential()\n",
    "# regularizer is L1\n",
    "# activation function is sigmoid\n",
    "model.add(layers.Dense(1, activation='sigmoid', activity_regularizer=l1(0.0001)))\n",
    "# optimizer is SGD\n",
    "# loss function is binary_crossentropy\n",
    "# model metric is accuracy\n",
    "model.compile(optimizer='sgd',\n",
    "              loss='binary_crossentropy',\n",
    "              metrics=['accuracy'])\n"
   ]
  },
  {
   "cell_type": "code",
   "execution_count": 54,
   "id": "c2eddfa5",
   "metadata": {},
   "outputs": [
    {
     "name": "stdout",
     "output_type": "stream",
     "text": [
      "Model: \"sequential_7\"\n",
      "_________________________________________________________________\n",
      "Layer (type)                 Output Shape              Param #   \n",
      "=================================================================\n",
      "dense_9 (Dense)              (40000, 1)                12319     \n",
      "=================================================================\n",
      "Total params: 12,319\n",
      "Trainable params: 12,319\n",
      "Non-trainable params: 0\n",
      "_________________________________________________________________\n"
     ]
    }
   ],
   "source": [
    "model.build(X_train.shape)\n",
    "model.summary()"
   ]
  },
  {
   "cell_type": "markdown",
   "id": "e0cb02d5",
   "metadata": {},
   "source": [
    "#### 5.2 Train the model"
   ]
  },
  {
   "cell_type": "code",
   "execution_count": 55,
   "id": "09db5d2f",
   "metadata": {},
   "outputs": [
    {
     "name": "stdout",
     "output_type": "stream",
     "text": [
      "Epoch 1/20\n",
      "2000/2000 [==============================] - 4s 2ms/step - loss: 0.5521 - accuracy: 0.7587 - val_loss: 0.4180 - val_accuracy: 0.8351\n",
      "Epoch 2/20\n",
      "2000/2000 [==============================] - 4s 2ms/step - loss: 0.3939 - accuracy: 0.8546 - val_loss: 0.3760 - val_accuracy: 0.8493\n",
      "Epoch 3/20\n",
      "2000/2000 [==============================] - 4s 2ms/step - loss: 0.3530 - accuracy: 0.8696 - val_loss: 0.3543 - val_accuracy: 0.8587\n",
      "Epoch 4/20\n",
      "2000/2000 [==============================] - 4s 2ms/step - loss: 0.3344 - accuracy: 0.8772 - val_loss: 0.3406 - val_accuracy: 0.8641\n",
      "Epoch 5/20\n",
      "2000/2000 [==============================] - 4s 2ms/step - loss: 0.3110 - accuracy: 0.8879 - val_loss: 0.3336 - val_accuracy: 0.8696\n",
      "Epoch 6/20\n",
      "2000/2000 [==============================] - 4s 2ms/step - loss: 0.3031 - accuracy: 0.8893 - val_loss: 0.3233 - val_accuracy: 0.8730\n",
      "Epoch 7/20\n",
      "2000/2000 [==============================] - 4s 2ms/step - loss: 0.2913 - accuracy: 0.8937 - val_loss: 0.3176 - val_accuracy: 0.8745\n",
      "Epoch 8/20\n",
      "2000/2000 [==============================] - 4s 2ms/step - loss: 0.2874 - accuracy: 0.8928 - val_loss: 0.3136 - val_accuracy: 0.8759\n",
      "Epoch 9/20\n",
      "2000/2000 [==============================] - 4s 2ms/step - loss: 0.2808 - accuracy: 0.8966 - val_loss: 0.3095 - val_accuracy: 0.8774\n",
      "Epoch 10/20\n",
      "2000/2000 [==============================] - 4s 2ms/step - loss: 0.2746 - accuracy: 0.8992 - val_loss: 0.3062 - val_accuracy: 0.8778\n",
      "Epoch 11/20\n",
      "2000/2000 [==============================] - 4s 2ms/step - loss: 0.2675 - accuracy: 0.9032 - val_loss: 0.3035 - val_accuracy: 0.8785\n",
      "Epoch 12/20\n",
      "2000/2000 [==============================] - 4s 2ms/step - loss: 0.2680 - accuracy: 0.9011 - val_loss: 0.3026 - val_accuracy: 0.8788\n",
      "Epoch 13/20\n",
      "2000/2000 [==============================] - 4s 2ms/step - loss: 0.2585 - accuracy: 0.9048 - val_loss: 0.3004 - val_accuracy: 0.8786\n",
      "Epoch 14/20\n",
      "2000/2000 [==============================] - 4s 2ms/step - loss: 0.2583 - accuracy: 0.9047 - val_loss: 0.2979 - val_accuracy: 0.8808\n",
      "Epoch 15/20\n",
      "2000/2000 [==============================] - 4s 2ms/step - loss: 0.2552 - accuracy: 0.9053 - val_loss: 0.2960 - val_accuracy: 0.8813\n",
      "Epoch 16/20\n",
      "2000/2000 [==============================] - 4s 2ms/step - loss: 0.2531 - accuracy: 0.9065 - val_loss: 0.2951 - val_accuracy: 0.8818\n",
      "Epoch 17/20\n",
      "2000/2000 [==============================] - 4s 2ms/step - loss: 0.2474 - accuracy: 0.9077 - val_loss: 0.2935 - val_accuracy: 0.8828\n",
      "Epoch 18/20\n",
      "2000/2000 [==============================] - 4s 2ms/step - loss: 0.2427 - accuracy: 0.9092 - val_loss: 0.2919 - val_accuracy: 0.8827\n",
      "Epoch 19/20\n",
      "2000/2000 [==============================] - 4s 2ms/step - loss: 0.2423 - accuracy: 0.9117 - val_loss: 0.2907 - val_accuracy: 0.8840\n",
      "Epoch 20/20\n",
      "2000/2000 [==============================] - 4s 2ms/step - loss: 0.2402 - accuracy: 0.9118 - val_loss: 0.2898 - val_accuracy: 0.8856\n"
     ]
    }
   ],
   "source": [
    "# \"Fit Model\" (i.e. train model), using training data (80% of dataset)\n",
    "batch_size = 20\n",
    "epochs = 20\n",
    "history = model.fit(X_train, y_train, epochs=epochs, batch_size=batch_size, validation_data=(X_test, y_test))"
   ]
  },
  {
   "cell_type": "markdown",
   "id": "2c50b28e",
   "metadata": {},
   "source": [
    "#### 5.3 evaluate the model"
   ]
  },
  {
   "cell_type": "code",
   "execution_count": 56,
   "id": "a78c632e",
   "metadata": {},
   "outputs": [
    {
     "name": "stdout",
     "output_type": "stream",
     "text": [
      "Training Accuracy: 0.9130\n",
      "Testing Accuracy:  0.8856\n"
     ]
    },
    {
     "data": {
      "image/png": "[encoded data removed]",
      "text/plain": [
       "<Figure size 864x360 with 2 Axes>"
      ]
     },
     "metadata": {},
     "output_type": "display_data"
    }
   ],
   "source": [
    "loss, accuracy = model.evaluate(X_train, y_train, verbose=False)\n",
    "print(\"Training Accuracy: {:.4f}\".format(accuracy))\n",
    "loss, accuracy = model.evaluate(X_test, y_test, verbose=False)\n",
    "print(\"Testing Accuracy:  {:.4f}\".format(accuracy))\n",
    "plot_history(history)"
   ]
  },
  {
   "cell_type": "markdown",
   "id": "967629b4",
   "metadata": {},
   "source": [
    "# 6. 2-Layer MLP"
   ]
  },
  {
   "cell_type": "markdown",
   "id": "71e3380a",
   "metadata": {},
   "source": [
    "#### 6.1 Build the 2-Layer MLP model"
   ]
  },
  {
   "cell_type": "code",
   "execution_count": 57,
   "id": "42362a5a",
   "metadata": {},
   "outputs": [],
   "source": [
    "# input dim is 12319 * 1\n",
    "# output dim is 1\n",
    "model = Sequential()\n",
    "# hidden layer\n",
    "# activation function is relu\n",
    "# regularizer is L1\n",
    "model.add(layers.Dense(100, activation='relu', activity_regularizer=l1(0.0001)))\n",
    "# activation function is sigmoid\n",
    "model.add(layers.Dense(1, activation='sigmoid'))\n",
    "# optimizer is Adam\n",
    "# loss function is binary_crossentropy\n",
    "# model metric is accuracy\n",
    "model.compile(optimizer='adam',\n",
    "              loss='binary_crossentropy',\n",
    "              metrics=['accuracy'])"
   ]
  },
  {
   "cell_type": "code",
   "execution_count": 58,
   "id": "aa5b2b02",
   "metadata": {},
   "outputs": [
    {
     "name": "stdout",
     "output_type": "stream",
     "text": [
      "Model: \"sequential_8\"\n",
      "_________________________________________________________________\n",
      "Layer (type)                 Output Shape              Param #   \n",
      "=================================================================\n",
      "dense_10 (Dense)             (40000, 100)              1231900   \n",
      "_________________________________________________________________\n",
      "dense_11 (Dense)             (40000, 1)                101       \n",
      "=================================================================\n",
      "Total params: 1,232,001\n",
      "Trainable params: 1,232,001\n",
      "Non-trainable params: 0\n",
      "_________________________________________________________________\n"
     ]
    }
   ],
   "source": [
    "model.build(X_train.shape)\n",
    "model.summary()"
   ]
  },
  {
   "cell_type": "markdown",
   "id": "1b19f429",
   "metadata": {},
   "source": [
    "#### 6.2 Train the model"
   ]
  },
  {
   "cell_type": "code",
   "execution_count": 59,
   "id": "8514063b",
   "metadata": {},
   "outputs": [
    {
     "name": "stdout",
     "output_type": "stream",
     "text": [
      "Epoch 1/20\n",
      "2000/2000 [==============================] - 14s 7ms/step - loss: 0.3556 - accuracy: 0.8486 - val_loss: 0.2741 - val_accuracy: 0.8874\n",
      "Epoch 2/20\n",
      "2000/2000 [==============================] - 14s 7ms/step - loss: 0.1462 - accuracy: 0.9453 - val_loss: 0.3046 - val_accuracy: 0.8842\n",
      "Epoch 3/20\n",
      "2000/2000 [==============================] - 14s 7ms/step - loss: 0.0604 - accuracy: 0.9826 - val_loss: 0.4177 - val_accuracy: 0.8856\n",
      "Epoch 4/20\n",
      "2000/2000 [==============================] - 14s 7ms/step - loss: 0.0183 - accuracy: 0.9964 - val_loss: 0.5373 - val_accuracy: 0.8817\n",
      "Epoch 5/20\n",
      "2000/2000 [==============================] - 13s 7ms/step - loss: 0.0074 - accuracy: 0.9990 - val_loss: 0.5983 - val_accuracy: 0.8812\n",
      "Epoch 6/20\n",
      "2000/2000 [==============================] - 13s 7ms/step - loss: 0.0044 - accuracy: 0.9994 - val_loss: 0.5755 - val_accuracy: 0.8832\n",
      "Epoch 7/20\n",
      "2000/2000 [==============================] - 14s 7ms/step - loss: 0.0031 - accuracy: 0.9997 - val_loss: 0.5527 - val_accuracy: 0.8808\n",
      "Epoch 8/20\n",
      "2000/2000 [==============================] - 14s 7ms/step - loss: 0.0025 - accuracy: 0.9996 - val_loss: 0.6288 - val_accuracy: 0.8765\n",
      "Epoch 9/20\n",
      "2000/2000 [==============================] - 14s 7ms/step - loss: 0.0029 - accuracy: 0.9995 - val_loss: 0.5984 - val_accuracy: 0.8771\n",
      "Epoch 10/20\n",
      "2000/2000 [==============================] - 14s 7ms/step - loss: 0.0025 - accuracy: 0.9996 - val_loss: 0.5982 - val_accuracy: 0.8757\n",
      "Epoch 11/20\n",
      "2000/2000 [==============================] - 15s 7ms/step - loss: 0.0021 - accuracy: 0.9995 - val_loss: 0.5599 - val_accuracy: 0.8781\n",
      "Epoch 12/20\n",
      "2000/2000 [==============================] - 14s 7ms/step - loss: 0.0017 - accuracy: 0.9998 - val_loss: 0.5764 - val_accuracy: 0.8750\n",
      "Epoch 13/20\n",
      "2000/2000 [==============================] - 13s 7ms/step - loss: 0.0015 - accuracy: 0.9999 - val_loss: 0.5960 - val_accuracy: 0.8756\n",
      "Epoch 14/20\n",
      "2000/2000 [==============================] - 13s 7ms/step - loss: 0.0015 - accuracy: 0.9999 - val_loss: 0.6191 - val_accuracy: 0.8695\n",
      "Epoch 15/20\n",
      "2000/2000 [==============================] - 14s 7ms/step - loss: 0.0017 - accuracy: 0.9997 - val_loss: 0.6717 - val_accuracy: 0.8643\n",
      "Epoch 16/20\n",
      "2000/2000 [==============================] - 14s 7ms/step - loss: 0.0021 - accuracy: 0.9996 - val_loss: 0.6394 - val_accuracy: 0.8695\n",
      "Epoch 17/20\n",
      "2000/2000 [==============================] - 14s 7ms/step - loss: 0.0015 - accuracy: 0.9997 - val_loss: 0.6528 - val_accuracy: 0.8674\n",
      "Epoch 18/20\n",
      "2000/2000 [==============================] - 14s 7ms/step - loss: 0.0013 - accuracy: 0.9998 - val_loss: 0.6172 - val_accuracy: 0.8640\n",
      "Epoch 19/20\n",
      "2000/2000 [==============================] - 13s 7ms/step - loss: 0.0014 - accuracy: 0.9997 - val_loss: 0.6148 - val_accuracy: 0.8642\n",
      "Epoch 20/20\n",
      "2000/2000 [==============================] - 14s 7ms/step - loss: 0.0011 - accuracy: 0.9998 - val_loss: 0.6653 - val_accuracy: 0.8622\n"
     ]
    }
   ],
   "source": [
    "# \"Fit Model\" (i.e. train model), using training data (80% of dataset)\n",
    "batch_size = 20\n",
    "epochs = 20\n",
    "history = model.fit(X_train, y_train, epochs=epochs, batch_size=batch_size, validation_data=(X_test, y_test))"
   ]
  },
  {
   "cell_type": "markdown",
   "id": "d5371281",
   "metadata": {},
   "source": [
    "#### 6.3 evaluate the model"
   ]
  },
  {
   "cell_type": "code",
   "execution_count": 60,
   "id": "92cf92d7",
   "metadata": {},
   "outputs": [
    {
     "name": "stdout",
     "output_type": "stream",
     "text": [
      "Training Accuracy: 0.9998\n",
      "Testing Accuracy:  0.8622\n"
     ]
    },
    {
     "data": {
      "image/png": "[encoded data removed]",
      "text/plain": [
       "<Figure size 864x360 with 2 Axes>"
      ]
     },
     "metadata": {},
     "output_type": "display_data"
    }
   ],
   "source": [
    "loss, accuracy = model.evaluate(X_train, y_train, verbose=False)\n",
    "print(\"Training Accuracy: {:.4f}\".format(accuracy))\n",
    "loss, accuracy = model.evaluate(X_test, y_test, verbose=False)\n",
    "print(\"Testing Accuracy:  {:.4f}\".format(accuracy))\n",
    "plot_history(history)"
   ]
  },
  {
   "cell_type": "code",
   "execution_count": null,
   "id": "55331c7d",
   "metadata": {},
   "outputs": [],
   "source": []
  }
 ],
 "metadata": {
  "kernelspec": {
   "display_name": "nlp_env",
   "language": "python",
   "name": "nlp_env"
  },
  "language_info": {
   "codemirror_mode": {
    "name": "ipython",
    "version": 3
   },
   "file_extension": ".py",
   "mimetype": "text/x-python",
   "name": "python",
   "nbconvert_exporter": "python",
   "pygments_lexer": "ipython3",
   "version": "3.8.6"
  }
 },
 "nbformat": 4,
 "nbformat_minor": 5
}
